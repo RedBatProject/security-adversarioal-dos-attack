{
  "nbformat": 4,
  "nbformat_minor": 0,
  "metadata": {
    "colab": {
      "name": "02_perturbed features NN___security_adversarioal_dos_attack.ipynb",
      "provenance": [],
      "mount_file_id": "1fw6McolEyjnqkGvdm6Z0eD3v7PLqVNIK",
      "authorship_tag": "ABX9TyMeYpFlVbPrwvVwGcCW5+Va",
      "include_colab_link": true
    },
    "kernelspec": {
      "name": "python3",
      "display_name": "Python 3"
    },
    "language_info": {
      "name": "python"
    }
  },
  "cells": [
    {
      "cell_type": "markdown",
      "metadata": {
        "id": "view-in-github",
        "colab_type": "text"
      },
      "source": [
        "<a href=\"https://colab.research.google.com/github/Mahdi-N-13/security-adversarioal-dos-attack/blob/main/02_perturbed_features_NN___security_adversarioal_dos_attack.ipynb\" target=\"_parent\"><img src=\"https://colab.research.google.com/assets/colab-badge.svg\" alt=\"Open In Colab\"/></a>"
      ]
    },
    {
      "cell_type": "code",
      "execution_count": 2,
      "metadata": {
        "id": "5SxvTKEmivud"
      },
      "outputs": [],
      "source": [
        "import matplotlib.pyplot as plt\n",
        "import numpy as np\n",
        "import pandas as pd"
      ]
    },
    {
      "cell_type": "code",
      "source": [
        "data = pd.read_csv('/content/drive/MyDrive/security_adversarioal_dos_attack/data_02_sorted.csv')\n",
        "# data = data.drop(data.columns[0],axis=1)\n",
        "data"
      ],
      "metadata": {
        "colab": {
          "base_uri": "https://localhost:8080/",
          "height": 487
        },
        "id": "wMz7aghqjGwt",
        "outputId": "78c1275b-acfa-423e-c586-5815981a7798"
      },
      "execution_count": 5,
      "outputs": [
        {
          "output_type": "execute_result",
          "data": {
            "text/html": [
              "\n",
              "  <div id=\"df-df1ccb47-dceb-4c6b-934c-fb06aa72c4b7\">\n",
              "    <div class=\"colab-df-container\">\n",
              "      <div>\n",
              "<style scoped>\n",
              "    .dataframe tbody tr th:only-of-type {\n",
              "        vertical-align: middle;\n",
              "    }\n",
              "\n",
              "    .dataframe tbody tr th {\n",
              "        vertical-align: top;\n",
              "    }\n",
              "\n",
              "    .dataframe thead th {\n",
              "        text-align: right;\n",
              "    }\n",
              "</style>\n",
              "<table border=\"1\" class=\"dataframe\">\n",
              "  <thead>\n",
              "    <tr style=\"text-align: right;\">\n",
              "      <th></th>\n",
              "      <th>diff_srv_rate</th>\n",
              "      <th>same_srv_rate</th>\n",
              "      <th>dst_host_srv_count</th>\n",
              "      <th>dst_host_same_srv_rate</th>\n",
              "      <th>dst_host_diff_srv_rate</th>\n",
              "      <th>dst_host_serror_rate</th>\n",
              "      <th>logged_in</th>\n",
              "      <th>dst_host_srv_serror_rate</th>\n",
              "      <th>serror_rate</th>\n",
              "      <th>srv_serror_rate</th>\n",
              "      <th>count</th>\n",
              "      <th>dst_host_srv_diff_host_rate</th>\n",
              "      <th>level</th>\n",
              "      <th>dst_host_count</th>\n",
              "      <th>dst_host_same_src_port_rate</th>\n",
              "      <th>srv_diff_host_rate</th>\n",
              "      <th>srv_count</th>\n",
              "      <th>dst_host_srv_rerror_rate</th>\n",
              "      <th>rerror_rate</th>\n",
              "      <th>dst_host_rerror_rate</th>\n",
              "      <th>srv_rerror_rate</th>\n",
              "      <th>duration</th>\n",
              "      <th>hot</th>\n",
              "      <th>wrong_fragment</th>\n",
              "      <th>num_access_files</th>\n",
              "      <th>is_guest_login</th>\n",
              "      <th>num_file_creations</th>\n",
              "      <th>su_attempted</th>\n",
              "      <th>num_compromised</th>\n",
              "      <th>num_root</th>\n",
              "      <th>root_shell</th>\n",
              "      <th>num_shells</th>\n",
              "      <th>num_failed_logins</th>\n",
              "      <th>src_bytes</th>\n",
              "      <th>land</th>\n",
              "      <th>dst_bytes</th>\n",
              "      <th>urgent</th>\n",
              "      <th>is_host_login</th>\n",
              "      <th>attack</th>\n",
              "    </tr>\n",
              "  </thead>\n",
              "  <tbody>\n",
              "    <tr>\n",
              "      <th>0</th>\n",
              "      <td>0.15</td>\n",
              "      <td>0.08</td>\n",
              "      <td>1</td>\n",
              "      <td>0.00</td>\n",
              "      <td>0.60</td>\n",
              "      <td>0.00</td>\n",
              "      <td>0</td>\n",
              "      <td>0.00</td>\n",
              "      <td>0.0</td>\n",
              "      <td>0.0</td>\n",
              "      <td>13</td>\n",
              "      <td>0.00</td>\n",
              "      <td>15</td>\n",
              "      <td>255</td>\n",
              "      <td>0.88</td>\n",
              "      <td>0.00</td>\n",
              "      <td>1</td>\n",
              "      <td>0.00</td>\n",
              "      <td>0.0</td>\n",
              "      <td>0.00</td>\n",
              "      <td>0.0</td>\n",
              "      <td>0</td>\n",
              "      <td>0</td>\n",
              "      <td>0</td>\n",
              "      <td>0</td>\n",
              "      <td>0</td>\n",
              "      <td>0</td>\n",
              "      <td>0</td>\n",
              "      <td>0</td>\n",
              "      <td>0</td>\n",
              "      <td>0</td>\n",
              "      <td>0</td>\n",
              "      <td>0</td>\n",
              "      <td>146</td>\n",
              "      <td>0</td>\n",
              "      <td>0</td>\n",
              "      <td>0</td>\n",
              "      <td>0</td>\n",
              "      <td>1</td>\n",
              "    </tr>\n",
              "    <tr>\n",
              "      <th>1</th>\n",
              "      <td>0.07</td>\n",
              "      <td>0.05</td>\n",
              "      <td>26</td>\n",
              "      <td>0.10</td>\n",
              "      <td>0.05</td>\n",
              "      <td>1.00</td>\n",
              "      <td>0</td>\n",
              "      <td>1.00</td>\n",
              "      <td>1.0</td>\n",
              "      <td>1.0</td>\n",
              "      <td>123</td>\n",
              "      <td>0.00</td>\n",
              "      <td>19</td>\n",
              "      <td>255</td>\n",
              "      <td>0.00</td>\n",
              "      <td>0.00</td>\n",
              "      <td>6</td>\n",
              "      <td>0.00</td>\n",
              "      <td>0.0</td>\n",
              "      <td>0.00</td>\n",
              "      <td>0.0</td>\n",
              "      <td>0</td>\n",
              "      <td>0</td>\n",
              "      <td>0</td>\n",
              "      <td>0</td>\n",
              "      <td>0</td>\n",
              "      <td>0</td>\n",
              "      <td>0</td>\n",
              "      <td>0</td>\n",
              "      <td>0</td>\n",
              "      <td>0</td>\n",
              "      <td>0</td>\n",
              "      <td>0</td>\n",
              "      <td>0</td>\n",
              "      <td>0</td>\n",
              "      <td>0</td>\n",
              "      <td>0</td>\n",
              "      <td>0</td>\n",
              "      <td>0</td>\n",
              "    </tr>\n",
              "    <tr>\n",
              "      <th>2</th>\n",
              "      <td>0.00</td>\n",
              "      <td>1.00</td>\n",
              "      <td>255</td>\n",
              "      <td>1.00</td>\n",
              "      <td>0.00</td>\n",
              "      <td>0.03</td>\n",
              "      <td>1</td>\n",
              "      <td>0.01</td>\n",
              "      <td>0.2</td>\n",
              "      <td>0.2</td>\n",
              "      <td>5</td>\n",
              "      <td>0.04</td>\n",
              "      <td>21</td>\n",
              "      <td>30</td>\n",
              "      <td>0.03</td>\n",
              "      <td>0.00</td>\n",
              "      <td>5</td>\n",
              "      <td>0.01</td>\n",
              "      <td>0.0</td>\n",
              "      <td>0.00</td>\n",
              "      <td>0.0</td>\n",
              "      <td>0</td>\n",
              "      <td>0</td>\n",
              "      <td>0</td>\n",
              "      <td>0</td>\n",
              "      <td>0</td>\n",
              "      <td>0</td>\n",
              "      <td>0</td>\n",
              "      <td>0</td>\n",
              "      <td>0</td>\n",
              "      <td>0</td>\n",
              "      <td>0</td>\n",
              "      <td>0</td>\n",
              "      <td>232</td>\n",
              "      <td>0</td>\n",
              "      <td>8153</td>\n",
              "      <td>0</td>\n",
              "      <td>0</td>\n",
              "      <td>1</td>\n",
              "    </tr>\n",
              "    <tr>\n",
              "      <th>3</th>\n",
              "      <td>0.00</td>\n",
              "      <td>1.00</td>\n",
              "      <td>255</td>\n",
              "      <td>1.00</td>\n",
              "      <td>0.00</td>\n",
              "      <td>0.00</td>\n",
              "      <td>1</td>\n",
              "      <td>0.00</td>\n",
              "      <td>0.0</td>\n",
              "      <td>0.0</td>\n",
              "      <td>30</td>\n",
              "      <td>0.00</td>\n",
              "      <td>21</td>\n",
              "      <td>255</td>\n",
              "      <td>0.00</td>\n",
              "      <td>0.09</td>\n",
              "      <td>32</td>\n",
              "      <td>0.00</td>\n",
              "      <td>0.0</td>\n",
              "      <td>0.00</td>\n",
              "      <td>0.0</td>\n",
              "      <td>0</td>\n",
              "      <td>0</td>\n",
              "      <td>0</td>\n",
              "      <td>0</td>\n",
              "      <td>0</td>\n",
              "      <td>0</td>\n",
              "      <td>0</td>\n",
              "      <td>0</td>\n",
              "      <td>0</td>\n",
              "      <td>0</td>\n",
              "      <td>0</td>\n",
              "      <td>0</td>\n",
              "      <td>199</td>\n",
              "      <td>0</td>\n",
              "      <td>420</td>\n",
              "      <td>0</td>\n",
              "      <td>0</td>\n",
              "      <td>1</td>\n",
              "    </tr>\n",
              "    <tr>\n",
              "      <th>4</th>\n",
              "      <td>0.06</td>\n",
              "      <td>0.16</td>\n",
              "      <td>19</td>\n",
              "      <td>0.07</td>\n",
              "      <td>0.07</td>\n",
              "      <td>0.00</td>\n",
              "      <td>0</td>\n",
              "      <td>0.00</td>\n",
              "      <td>0.0</td>\n",
              "      <td>0.0</td>\n",
              "      <td>121</td>\n",
              "      <td>0.00</td>\n",
              "      <td>21</td>\n",
              "      <td>255</td>\n",
              "      <td>0.00</td>\n",
              "      <td>0.00</td>\n",
              "      <td>19</td>\n",
              "      <td>1.00</td>\n",
              "      <td>1.0</td>\n",
              "      <td>1.00</td>\n",
              "      <td>1.0</td>\n",
              "      <td>0</td>\n",
              "      <td>0</td>\n",
              "      <td>0</td>\n",
              "      <td>0</td>\n",
              "      <td>0</td>\n",
              "      <td>0</td>\n",
              "      <td>0</td>\n",
              "      <td>0</td>\n",
              "      <td>0</td>\n",
              "      <td>0</td>\n",
              "      <td>0</td>\n",
              "      <td>0</td>\n",
              "      <td>0</td>\n",
              "      <td>0</td>\n",
              "      <td>0</td>\n",
              "      <td>0</td>\n",
              "      <td>0</td>\n",
              "      <td>0</td>\n",
              "    </tr>\n",
              "    <tr>\n",
              "      <th>...</th>\n",
              "      <td>...</td>\n",
              "      <td>...</td>\n",
              "      <td>...</td>\n",
              "      <td>...</td>\n",
              "      <td>...</td>\n",
              "      <td>...</td>\n",
              "      <td>...</td>\n",
              "      <td>...</td>\n",
              "      <td>...</td>\n",
              "      <td>...</td>\n",
              "      <td>...</td>\n",
              "      <td>...</td>\n",
              "      <td>...</td>\n",
              "      <td>...</td>\n",
              "      <td>...</td>\n",
              "      <td>...</td>\n",
              "      <td>...</td>\n",
              "      <td>...</td>\n",
              "      <td>...</td>\n",
              "      <td>...</td>\n",
              "      <td>...</td>\n",
              "      <td>...</td>\n",
              "      <td>...</td>\n",
              "      <td>...</td>\n",
              "      <td>...</td>\n",
              "      <td>...</td>\n",
              "      <td>...</td>\n",
              "      <td>...</td>\n",
              "      <td>...</td>\n",
              "      <td>...</td>\n",
              "      <td>...</td>\n",
              "      <td>...</td>\n",
              "      <td>...</td>\n",
              "      <td>...</td>\n",
              "      <td>...</td>\n",
              "      <td>...</td>\n",
              "      <td>...</td>\n",
              "      <td>...</td>\n",
              "      <td>...</td>\n",
              "    </tr>\n",
              "    <tr>\n",
              "      <th>125967</th>\n",
              "      <td>0.06</td>\n",
              "      <td>0.14</td>\n",
              "      <td>25</td>\n",
              "      <td>0.10</td>\n",
              "      <td>0.06</td>\n",
              "      <td>1.00</td>\n",
              "      <td>0</td>\n",
              "      <td>1.00</td>\n",
              "      <td>1.0</td>\n",
              "      <td>1.0</td>\n",
              "      <td>184</td>\n",
              "      <td>0.00</td>\n",
              "      <td>20</td>\n",
              "      <td>255</td>\n",
              "      <td>0.00</td>\n",
              "      <td>0.00</td>\n",
              "      <td>25</td>\n",
              "      <td>0.00</td>\n",
              "      <td>0.0</td>\n",
              "      <td>0.00</td>\n",
              "      <td>0.0</td>\n",
              "      <td>0</td>\n",
              "      <td>0</td>\n",
              "      <td>0</td>\n",
              "      <td>0</td>\n",
              "      <td>0</td>\n",
              "      <td>0</td>\n",
              "      <td>0</td>\n",
              "      <td>0</td>\n",
              "      <td>0</td>\n",
              "      <td>0</td>\n",
              "      <td>0</td>\n",
              "      <td>0</td>\n",
              "      <td>0</td>\n",
              "      <td>0</td>\n",
              "      <td>0</td>\n",
              "      <td>0</td>\n",
              "      <td>0</td>\n",
              "      <td>0</td>\n",
              "    </tr>\n",
              "    <tr>\n",
              "      <th>125968</th>\n",
              "      <td>0.00</td>\n",
              "      <td>1.00</td>\n",
              "      <td>244</td>\n",
              "      <td>0.96</td>\n",
              "      <td>0.01</td>\n",
              "      <td>0.00</td>\n",
              "      <td>0</td>\n",
              "      <td>0.00</td>\n",
              "      <td>0.0</td>\n",
              "      <td>0.0</td>\n",
              "      <td>2</td>\n",
              "      <td>0.00</td>\n",
              "      <td>21</td>\n",
              "      <td>255</td>\n",
              "      <td>0.01</td>\n",
              "      <td>0.00</td>\n",
              "      <td>2</td>\n",
              "      <td>0.00</td>\n",
              "      <td>0.0</td>\n",
              "      <td>0.00</td>\n",
              "      <td>0.0</td>\n",
              "      <td>8</td>\n",
              "      <td>0</td>\n",
              "      <td>0</td>\n",
              "      <td>0</td>\n",
              "      <td>0</td>\n",
              "      <td>0</td>\n",
              "      <td>0</td>\n",
              "      <td>0</td>\n",
              "      <td>0</td>\n",
              "      <td>0</td>\n",
              "      <td>0</td>\n",
              "      <td>0</td>\n",
              "      <td>105</td>\n",
              "      <td>0</td>\n",
              "      <td>145</td>\n",
              "      <td>0</td>\n",
              "      <td>0</td>\n",
              "      <td>1</td>\n",
              "    </tr>\n",
              "    <tr>\n",
              "      <th>125969</th>\n",
              "      <td>0.00</td>\n",
              "      <td>1.00</td>\n",
              "      <td>30</td>\n",
              "      <td>0.12</td>\n",
              "      <td>0.06</td>\n",
              "      <td>0.72</td>\n",
              "      <td>1</td>\n",
              "      <td>0.00</td>\n",
              "      <td>0.0</td>\n",
              "      <td>0.0</td>\n",
              "      <td>1</td>\n",
              "      <td>0.00</td>\n",
              "      <td>18</td>\n",
              "      <td>255</td>\n",
              "      <td>0.00</td>\n",
              "      <td>0.00</td>\n",
              "      <td>1</td>\n",
              "      <td>0.00</td>\n",
              "      <td>0.0</td>\n",
              "      <td>0.01</td>\n",
              "      <td>0.0</td>\n",
              "      <td>0</td>\n",
              "      <td>0</td>\n",
              "      <td>0</td>\n",
              "      <td>0</td>\n",
              "      <td>0</td>\n",
              "      <td>0</td>\n",
              "      <td>0</td>\n",
              "      <td>0</td>\n",
              "      <td>0</td>\n",
              "      <td>0</td>\n",
              "      <td>0</td>\n",
              "      <td>0</td>\n",
              "      <td>2231</td>\n",
              "      <td>0</td>\n",
              "      <td>384</td>\n",
              "      <td>0</td>\n",
              "      <td>0</td>\n",
              "      <td>1</td>\n",
              "    </tr>\n",
              "    <tr>\n",
              "      <th>125970</th>\n",
              "      <td>0.05</td>\n",
              "      <td>0.06</td>\n",
              "      <td>8</td>\n",
              "      <td>0.03</td>\n",
              "      <td>0.05</td>\n",
              "      <td>1.00</td>\n",
              "      <td>0</td>\n",
              "      <td>1.00</td>\n",
              "      <td>1.0</td>\n",
              "      <td>1.0</td>\n",
              "      <td>144</td>\n",
              "      <td>0.00</td>\n",
              "      <td>20</td>\n",
              "      <td>255</td>\n",
              "      <td>0.00</td>\n",
              "      <td>0.00</td>\n",
              "      <td>8</td>\n",
              "      <td>0.00</td>\n",
              "      <td>0.0</td>\n",
              "      <td>0.00</td>\n",
              "      <td>0.0</td>\n",
              "      <td>0</td>\n",
              "      <td>0</td>\n",
              "      <td>0</td>\n",
              "      <td>0</td>\n",
              "      <td>0</td>\n",
              "      <td>0</td>\n",
              "      <td>0</td>\n",
              "      <td>0</td>\n",
              "      <td>0</td>\n",
              "      <td>0</td>\n",
              "      <td>0</td>\n",
              "      <td>0</td>\n",
              "      <td>0</td>\n",
              "      <td>0</td>\n",
              "      <td>0</td>\n",
              "      <td>0</td>\n",
              "      <td>0</td>\n",
              "      <td>0</td>\n",
              "    </tr>\n",
              "    <tr>\n",
              "      <th>125971</th>\n",
              "      <td>0.00</td>\n",
              "      <td>1.00</td>\n",
              "      <td>77</td>\n",
              "      <td>0.30</td>\n",
              "      <td>0.03</td>\n",
              "      <td>0.00</td>\n",
              "      <td>1</td>\n",
              "      <td>0.00</td>\n",
              "      <td>0.0</td>\n",
              "      <td>0.0</td>\n",
              "      <td>1</td>\n",
              "      <td>0.00</td>\n",
              "      <td>21</td>\n",
              "      <td>255</td>\n",
              "      <td>0.30</td>\n",
              "      <td>0.00</td>\n",
              "      <td>1</td>\n",
              "      <td>0.00</td>\n",
              "      <td>0.0</td>\n",
              "      <td>0.00</td>\n",
              "      <td>0.0</td>\n",
              "      <td>0</td>\n",
              "      <td>0</td>\n",
              "      <td>0</td>\n",
              "      <td>0</td>\n",
              "      <td>0</td>\n",
              "      <td>0</td>\n",
              "      <td>0</td>\n",
              "      <td>0</td>\n",
              "      <td>0</td>\n",
              "      <td>0</td>\n",
              "      <td>0</td>\n",
              "      <td>0</td>\n",
              "      <td>151</td>\n",
              "      <td>0</td>\n",
              "      <td>0</td>\n",
              "      <td>0</td>\n",
              "      <td>0</td>\n",
              "      <td>1</td>\n",
              "    </tr>\n",
              "  </tbody>\n",
              "</table>\n",
              "<p>125972 rows × 39 columns</p>\n",
              "</div>\n",
              "      <button class=\"colab-df-convert\" onclick=\"convertToInteractive('df-df1ccb47-dceb-4c6b-934c-fb06aa72c4b7')\"\n",
              "              title=\"Convert this dataframe to an interactive table.\"\n",
              "              style=\"display:none;\">\n",
              "        \n",
              "  <svg xmlns=\"http://www.w3.org/2000/svg\" height=\"24px\"viewBox=\"0 0 24 24\"\n",
              "       width=\"24px\">\n",
              "    <path d=\"M0 0h24v24H0V0z\" fill=\"none\"/>\n",
              "    <path d=\"M18.56 5.44l.94 2.06.94-2.06 2.06-.94-2.06-.94-.94-2.06-.94 2.06-2.06.94zm-11 1L8.5 8.5l.94-2.06 2.06-.94-2.06-.94L8.5 2.5l-.94 2.06-2.06.94zm10 10l.94 2.06.94-2.06 2.06-.94-2.06-.94-.94-2.06-.94 2.06-2.06.94z\"/><path d=\"M17.41 7.96l-1.37-1.37c-.4-.4-.92-.59-1.43-.59-.52 0-1.04.2-1.43.59L10.3 9.45l-7.72 7.72c-.78.78-.78 2.05 0 2.83L4 21.41c.39.39.9.59 1.41.59.51 0 1.02-.2 1.41-.59l7.78-7.78 2.81-2.81c.8-.78.8-2.07 0-2.86zM5.41 20L4 18.59l7.72-7.72 1.47 1.35L5.41 20z\"/>\n",
              "  </svg>\n",
              "      </button>\n",
              "      \n",
              "  <style>\n",
              "    .colab-df-container {\n",
              "      display:flex;\n",
              "      flex-wrap:wrap;\n",
              "      gap: 12px;\n",
              "    }\n",
              "\n",
              "    .colab-df-convert {\n",
              "      background-color: #E8F0FE;\n",
              "      border: none;\n",
              "      border-radius: 50%;\n",
              "      cursor: pointer;\n",
              "      display: none;\n",
              "      fill: #1967D2;\n",
              "      height: 32px;\n",
              "      padding: 0 0 0 0;\n",
              "      width: 32px;\n",
              "    }\n",
              "\n",
              "    .colab-df-convert:hover {\n",
              "      background-color: #E2EBFA;\n",
              "      box-shadow: 0px 1px 2px rgba(60, 64, 67, 0.3), 0px 1px 3px 1px rgba(60, 64, 67, 0.15);\n",
              "      fill: #174EA6;\n",
              "    }\n",
              "\n",
              "    [theme=dark] .colab-df-convert {\n",
              "      background-color: #3B4455;\n",
              "      fill: #D2E3FC;\n",
              "    }\n",
              "\n",
              "    [theme=dark] .colab-df-convert:hover {\n",
              "      background-color: #434B5C;\n",
              "      box-shadow: 0px 1px 3px 1px rgba(0, 0, 0, 0.15);\n",
              "      filter: drop-shadow(0px 1px 2px rgba(0, 0, 0, 0.3));\n",
              "      fill: #FFFFFF;\n",
              "    }\n",
              "  </style>\n",
              "\n",
              "      <script>\n",
              "        const buttonEl =\n",
              "          document.querySelector('#df-df1ccb47-dceb-4c6b-934c-fb06aa72c4b7 button.colab-df-convert');\n",
              "        buttonEl.style.display =\n",
              "          google.colab.kernel.accessAllowed ? 'block' : 'none';\n",
              "\n",
              "        async function convertToInteractive(key) {\n",
              "          const element = document.querySelector('#df-df1ccb47-dceb-4c6b-934c-fb06aa72c4b7');\n",
              "          const dataTable =\n",
              "            await google.colab.kernel.invokeFunction('convertToInteractive',\n",
              "                                                     [key], {});\n",
              "          if (!dataTable) return;\n",
              "\n",
              "          const docLinkHtml = 'Like what you see? Visit the ' +\n",
              "            '<a target=\"_blank\" href=https://colab.research.google.com/notebooks/data_table.ipynb>data table notebook</a>'\n",
              "            + ' to learn more about interactive tables.';\n",
              "          element.innerHTML = '';\n",
              "          dataTable['output_type'] = 'display_data';\n",
              "          await google.colab.output.renderOutput(dataTable, element);\n",
              "          const docLink = document.createElement('div');\n",
              "          docLink.innerHTML = docLinkHtml;\n",
              "          element.appendChild(docLink);\n",
              "        }\n",
              "      </script>\n",
              "    </div>\n",
              "  </div>\n",
              "  "
            ],
            "text/plain": [
              "        diff_srv_rate  same_srv_rate  ...  is_host_login  attack\n",
              "0                0.15           0.08  ...              0       1\n",
              "1                0.07           0.05  ...              0       0\n",
              "2                0.00           1.00  ...              0       1\n",
              "3                0.00           1.00  ...              0       1\n",
              "4                0.06           0.16  ...              0       0\n",
              "...               ...            ...  ...            ...     ...\n",
              "125967           0.06           0.14  ...              0       0\n",
              "125968           0.00           1.00  ...              0       1\n",
              "125969           0.00           1.00  ...              0       1\n",
              "125970           0.05           0.06  ...              0       0\n",
              "125971           0.00           1.00  ...              0       1\n",
              "\n",
              "[125972 rows x 39 columns]"
            ]
          },
          "metadata": {},
          "execution_count": 5
        }
      ]
    },
    {
      "cell_type": "code",
      "source": [
        "n_f = len(data.columns)-1"
      ],
      "metadata": {
        "id": "ITIiIe-Ejy2M"
      },
      "execution_count": null,
      "outputs": []
    },
    {
      "cell_type": "code",
      "source": [
        "new_nf = n_f\n",
        "train_size = 50*10**3\n",
        "test_size = 50*10**3\n",
        "\n",
        "x = data.sample(n=len(data.iloc[:,0]))\n",
        "X_train = x.iloc[:train_size,:new_nf]\n",
        "Y_train = np.array(x['attack'][:train_size],dtype=bool)\n",
        "from tensorflow import keras as ks\n",
        "model = ks.Sequential()\n",
        "model.add(ks.layers.Dense(8, activation=ks.activations.relu, input_dim = new_nf)  )\n",
        "model.add(ks.layers.Dense(5, activation=ks.activations.relu)  )\n",
        "model.add(ks.layers.Dense(2, activation=ks.activations.sigmoid)  )\n",
        "model.compile(optimizer='adam',\n",
        "            loss=ks.losses.SparseCategoricalCrossentropy(from_logits=True),\n",
        "            metrics=['accuracy'])"
      ],
      "metadata": {
        "id": "QC-W7ALJjYfk"
      },
      "execution_count": 11,
      "outputs": []
    },
    {
      "cell_type": "code",
      "source": [
        "model.fit(X_train, Y_train, epochs=50)"
      ],
      "metadata": {
        "colab": {
          "base_uri": "https://localhost:8080/"
        },
        "id": "p8dQL25pnvSd",
        "outputId": "44bf2157-21b9-4c2a-dcea-c2e43eb7386b"
      },
      "execution_count": 13,
      "outputs": [
        {
          "output_type": "stream",
          "name": "stdout",
          "text": [
            "Epoch 1/50\n",
            "1563/1563 [==============================] - 2s 2ms/step - loss: 6.0379 - accuracy: 0.9384\n",
            "Epoch 2/50\n",
            "1563/1563 [==============================] - 2s 2ms/step - loss: 48.4128 - accuracy: 0.8748\n",
            "Epoch 3/50\n",
            "1563/1563 [==============================] - 2s 2ms/step - loss: 22.3532 - accuracy: 0.9185\n",
            "Epoch 4/50\n",
            "1563/1563 [==============================] - 3s 2ms/step - loss: 18.5081 - accuracy: 0.9430\n",
            "Epoch 5/50\n",
            "1563/1563 [==============================] - 3s 2ms/step - loss: 32.7356 - accuracy: 0.9379\n",
            "Epoch 6/50\n",
            "1563/1563 [==============================] - 3s 2ms/step - loss: 15.4059 - accuracy: 0.9462\n",
            "Epoch 7/50\n",
            "1563/1563 [==============================] - 4s 3ms/step - loss: 1.7770 - accuracy: 0.9494\n",
            "Epoch 8/50\n",
            "1563/1563 [==============================] - 2s 2ms/step - loss: 27.6425 - accuracy: 0.9471\n",
            "Epoch 9/50\n",
            "1563/1563 [==============================] - 3s 2ms/step - loss: 26.6448 - accuracy: 0.9426\n",
            "Epoch 10/50\n",
            "1563/1563 [==============================] - 3s 2ms/step - loss: 15.5140 - accuracy: 0.9492\n",
            "Epoch 11/50\n",
            "1563/1563 [==============================] - 4s 2ms/step - loss: 17.1730 - accuracy: 0.9462\n",
            "Epoch 12/50\n",
            "1563/1563 [==============================] - 3s 2ms/step - loss: 22.7262 - accuracy: 0.9467\n",
            "Epoch 13/50\n",
            "1563/1563 [==============================] - 2s 2ms/step - loss: 14.0952 - accuracy: 0.9528\n",
            "Epoch 14/50\n",
            "1563/1563 [==============================] - 2s 1ms/step - loss: 3.5336 - accuracy: 0.9563\n",
            "Epoch 15/50\n",
            "1563/1563 [==============================] - 2s 2ms/step - loss: 0.1134 - accuracy: 0.9579\n",
            "Epoch 16/50\n",
            "1563/1563 [==============================] - 2s 1ms/step - loss: 1.5290 - accuracy: 0.9575\n",
            "Epoch 17/50\n",
            "1563/1563 [==============================] - 2s 1ms/step - loss: 52.3069 - accuracy: 0.9569\n",
            "Epoch 18/50\n",
            "1563/1563 [==============================] - 2s 2ms/step - loss: 15.2380 - accuracy: 0.9550\n",
            "Epoch 19/50\n",
            "1563/1563 [==============================] - 2s 2ms/step - loss: 9.9298 - accuracy: 0.9561\n",
            "Epoch 20/50\n",
            "1563/1563 [==============================] - 2s 1ms/step - loss: 2.4497 - accuracy: 0.9570\n",
            "Epoch 21/50\n",
            "1563/1563 [==============================] - 2s 1ms/step - loss: 0.0956 - accuracy: 0.9578\n",
            "Epoch 22/50\n",
            "1563/1563 [==============================] - 2s 1ms/step - loss: 0.1310 - accuracy: 0.9587\n",
            "Epoch 23/50\n",
            "1563/1563 [==============================] - 2s 2ms/step - loss: 1.0129 - accuracy: 0.9581\n",
            "Epoch 24/50\n",
            "1563/1563 [==============================] - 2s 2ms/step - loss: 0.2114 - accuracy: 0.9580\n",
            "Epoch 25/50\n",
            "1563/1563 [==============================] - 2s 2ms/step - loss: 1.4276 - accuracy: 0.9491\n",
            "Epoch 26/50\n",
            "1563/1563 [==============================] - 3s 2ms/step - loss: 0.1292 - accuracy: 0.9508\n",
            "Epoch 27/50\n",
            "1563/1563 [==============================] - 3s 2ms/step - loss: 0.0991 - accuracy: 0.9579\n",
            "Epoch 28/50\n",
            "1563/1563 [==============================] - 2s 2ms/step - loss: 0.0917 - accuracy: 0.9584\n",
            "Epoch 29/50\n",
            "1563/1563 [==============================] - 2s 1ms/step - loss: 1.1018 - accuracy: 0.9577\n",
            "Epoch 30/50\n",
            "1563/1563 [==============================] - 2s 2ms/step - loss: 0.1114 - accuracy: 0.9580\n",
            "Epoch 31/50\n",
            "1563/1563 [==============================] - 3s 2ms/step - loss: 0.0967 - accuracy: 0.9590\n",
            "Epoch 32/50\n",
            "1563/1563 [==============================] - 4s 3ms/step - loss: 0.1264 - accuracy: 0.9581\n",
            "Epoch 33/50\n",
            "1563/1563 [==============================] - 2s 2ms/step - loss: 0.0953 - accuracy: 0.9590\n",
            "Epoch 34/50\n",
            "1563/1563 [==============================] - 2s 1ms/step - loss: 0.0931 - accuracy: 0.9586\n",
            "Epoch 35/50\n",
            "1563/1563 [==============================] - 2s 1ms/step - loss: 0.0901 - accuracy: 0.9591\n",
            "Epoch 36/50\n",
            "1563/1563 [==============================] - 2s 2ms/step - loss: 0.0872 - accuracy: 0.9593\n",
            "Epoch 37/50\n",
            "1563/1563 [==============================] - 3s 2ms/step - loss: 0.0891 - accuracy: 0.9594\n",
            "Epoch 38/50\n",
            "1563/1563 [==============================] - 2s 2ms/step - loss: 0.0955 - accuracy: 0.9589\n",
            "Epoch 39/50\n",
            "1563/1563 [==============================] - 2s 2ms/step - loss: 0.0971 - accuracy: 0.9589\n",
            "Epoch 40/50\n",
            "1563/1563 [==============================] - 2s 1ms/step - loss: 0.0902 - accuracy: 0.9591\n",
            "Epoch 41/50\n",
            "1563/1563 [==============================] - 2s 1ms/step - loss: 0.1065 - accuracy: 0.9590\n",
            "Epoch 42/50\n",
            "1563/1563 [==============================] - 2s 1ms/step - loss: 0.0979 - accuracy: 0.9589\n",
            "Epoch 43/50\n",
            "1563/1563 [==============================] - 2s 2ms/step - loss: 0.0890 - accuracy: 0.9594\n",
            "Epoch 44/50\n",
            "1563/1563 [==============================] - 2s 1ms/step - loss: 0.1283 - accuracy: 0.9591\n",
            "Epoch 45/50\n",
            "1563/1563 [==============================] - 2s 1ms/step - loss: 0.0996 - accuracy: 0.9581\n",
            "Epoch 46/50\n",
            "1563/1563 [==============================] - 2s 2ms/step - loss: 0.0937 - accuracy: 0.9596\n",
            "Epoch 47/50\n",
            "1563/1563 [==============================] - 2s 2ms/step - loss: 0.0926 - accuracy: 0.9589\n",
            "Epoch 48/50\n",
            "1563/1563 [==============================] - 2s 1ms/step - loss: 0.0862 - accuracy: 0.9594\n",
            "Epoch 49/50\n",
            "1563/1563 [==============================] - 2s 1ms/step - loss: 0.1371 - accuracy: 0.9594\n",
            "Epoch 50/50\n",
            "1563/1563 [==============================] - 2s 1ms/step - loss: 0.0938 - accuracy: 0.9599\n"
          ]
        },
        {
          "output_type": "execute_result",
          "data": {
            "text/plain": [
              "<keras.callbacks.History at 0x7fede0068a90>"
            ]
          },
          "metadata": {},
          "execution_count": 13
        }
      ]
    },
    {
      "cell_type": "code",
      "source": [
        "X_test = x.iloc[-test_size:,:new_nf]\n",
        "Y_test = np.array(x['attack'][-test_size:],dtype=bool)\n",
        "Y_pred = model.predict(X_test)\n",
        "Y_pred"
      ],
      "metadata": {
        "colab": {
          "base_uri": "https://localhost:8080/"
        },
        "id": "ROgSCgJbopnG",
        "outputId": "38a7404d-cd34-45ff-d40e-d5373c6dcba6"
      },
      "execution_count": 14,
      "outputs": [
        {
          "output_type": "execute_result",
          "data": {
            "text/plain": [
              "array([[2.4901297e-05, 2.5895397e-09],\n",
              "       [3.6995894e-01, 6.3004106e-01],\n",
              "       [0.0000000e+00, 0.0000000e+00],\n",
              "       ...,\n",
              "       [1.1962584e-01, 6.8718195e-04],\n",
              "       [1.0000000e+00, 9.9999905e-01],\n",
              "       [3.3488512e-02, 2.7659535e-04]], dtype=float32)"
            ]
          },
          "metadata": {},
          "execution_count": 14
        }
      ]
    },
    {
      "cell_type": "code",
      "source": [
        "y_p = np.argsort(Y_pred)[:,1]"
      ],
      "metadata": {
        "id": "xALXa9vHpSTN"
      },
      "execution_count": 21,
      "outputs": []
    },
    {
      "cell_type": "code",
      "source": [
        "(Y_test==y_p).mean()"
      ],
      "metadata": {
        "colab": {
          "base_uri": "https://localhost:8080/"
        },
        "id": "X2YBP0w7pj7S",
        "outputId": "9dc46cb4-0408-4e39-871d-85e155ab5a01"
      },
      "execution_count": 45,
      "outputs": [
        {
          "output_type": "execute_result",
          "data": {
            "text/plain": [
              "0.9478"
            ]
          },
          "metadata": {},
          "execution_count": 45
        }
      ]
    },
    {
      "cell_type": "code",
      "source": [
        "attc_test = Y_test==1\n",
        "safe_test = np.invert(attc_test)"
      ],
      "metadata": {
        "id": "FfjvXAB6qAnc"
      },
      "execution_count": 34,
      "outputs": []
    },
    {
      "cell_type": "code",
      "source": [
        "X_test_attc = X_test[attc_test]\n",
        "X_test_safe = X_test[safe_test]\n",
        "len_attc_test = len(X_test_attc)\n",
        "\n",
        "detect_Accuracy_u = np.zeros(n_f)\n",
        "for i in range(n_f):\n",
        "  X_perturbed = X_test_attc.copy()\n",
        "  minn,maxx = X_test_safe.iloc[:,i].min(),X_test_safe.iloc[:,i].max()\n",
        "  X_perturbed.iloc[:,i] = np.random.uniform(minn,maxx,len_attc_test)\n",
        "  detect_Accuracy_u[i] = np.argsort(model.predict(X_perturbed))[:,1].mean()"
      ],
      "metadata": {
        "id": "GmXe3uMnp1_c"
      },
      "execution_count": 61,
      "outputs": []
    },
    {
      "cell_type": "code",
      "source": [
        "detect_Accuracy_UnPerturbed = np.argsort(model.predict(X_test_attc))[:,1].mean()\n",
        "detect_Accuracy_UnPerturbed"
      ],
      "metadata": {
        "colab": {
          "base_uri": "https://localhost:8080/"
        },
        "id": "_7XCuGRKFAly",
        "outputId": "de716787-3d17-46c8-8457-c44918fc18c9"
      },
      "execution_count": 86,
      "outputs": [
        {
          "output_type": "execute_result",
          "data": {
            "text/plain": [
              "0.9977154413692371"
            ]
          },
          "metadata": {},
          "execution_count": 86
        }
      ]
    },
    {
      "cell_type": "code",
      "source": [
        "plt.figure(figsize=(10,6))\n",
        "plt.plot(detect_Accuracy_u,label='true negatives after Perturbing')\n",
        "# plt.plot([0,n_f-1],[(Y_test==y_p).mean()]*2)\n",
        "plt.plot([0,n_f-1],[1,1])\n",
        "plt.plot([0,n_f-1],[detect_Accuracy_UnPerturbed]*2,label='true negatives for UnPerturbed')\n",
        "plt.xlabel('features')\n",
        "plt.xticks(range(n_f),data.columns[:-1],rotation='vertical')\n",
        "plt.ylabel('Detection Accuracy (uniform method)')\n",
        "plt.legend()"
      ],
      "metadata": {
        "colab": {
          "base_uri": "https://localhost:8080/",
          "height": 539
        },
        "id": "MCQJb6vrsC6c",
        "outputId": "2f0195ea-e5d4-4629-cc10-be4cbaf5966e"
      },
      "execution_count": 90,
      "outputs": [
        {
          "output_type": "execute_result",
          "data": {
            "text/plain": [
              "<matplotlib.legend.Legend at 0x7feddb671d10>"
            ]
          },
          "metadata": {},
          "execution_count": 90
        },
        {
          "output_type": "display_data",
          "data": {
            "image/png": "[encoded data removed]",
            "text/plain": [
              "<Figure size 720x432 with 1 Axes>"
            ]
          },
          "metadata": {
            "needs_background": "light"
          }
        }
      ]
    },
    {
      "cell_type": "code",
      "source": [
        "detect_Accuracy_c = np.zeros(n_f)\n",
        "for i in range(n_f):\n",
        "  X_perturbed = X_test_attc.copy()\n",
        "  # minn,maxx = X_test_safe.iloc[:,i].min(),X_test_safe.iloc[:,i].max()\n",
        "  X_perturbed.iloc[:,i] = np.random.choice(X_test_safe.iloc[:,i],size=len_attc_test)\n",
        "  detect_Accuracy_c[i] = np.argsort(model.predict(X_perturbed))[:,1].mean()"
      ],
      "metadata": {
        "id": "RRNx5TbAxpeT"
      },
      "execution_count": 57,
      "outputs": []
    },
    {
      "cell_type": "code",
      "source": [
        ""
      ],
      "metadata": {
        "id": "ZAyBBGRIFS9J"
      },
      "execution_count": null,
      "outputs": []
    },
    {
      "cell_type": "code",
      "source": [
        "plt.figure(figsize=(10,6))\n",
        "plt.plot(detect_Accuracy_c,label='true negatives after Perturbing')\n",
        "# plt.plot([0,n_f-1],[(Y_test==y_p).mean()]*2)\n",
        "plt.plot([0,n_f-1],[1,1])\n",
        "plt.plot([0,n_f-1],[detect_Accuracy_UnPerturbed]*2,label='true negatives for UnPerturbed')\n",
        "plt.xlabel('features')\n",
        "plt.xticks(range(n_f),data.columns[:-1],rotation='vertical')\n",
        "plt.ylabel('Detection Accuracy (choice method)')\n",
        "plt.legend()"
      ],
      "metadata": {
        "colab": {
          "base_uri": "https://localhost:8080/",
          "height": 539
        },
        "id": "TQrUbYjVwnIa",
        "outputId": "dfdf5ade-e73d-446f-da6d-9c41c06a37f8"
      },
      "execution_count": 89,
      "outputs": [
        {
          "output_type": "execute_result",
          "data": {
            "text/plain": [
              "<matplotlib.legend.Legend at 0x7feddb7840d0>"
            ]
          },
          "metadata": {},
          "execution_count": 89
        },
        {
          "output_type": "display_data",
          "data": {
            "image/png": "[encoded data removed]",
            "text/plain": [
              "<Figure size 720x432 with 1 Axes>"
            ]
          },
          "metadata": {
            "needs_background": "light"
          }
        }
      ]
    },
    {
      "cell_type": "code",
      "source": [
        "featureZ = ['count','hot']\n",
        "safe = np.array(data['attack']==0)\n",
        "attc = np.invert(safe)\n",
        "for f in featureZ:\n",
        "  i = np.where(data.columns==f)[0][0]\n",
        "  minn,maxx = data.iloc[:,i].min(),data.iloc[:,i].max()\n",
        "  A,x = np.histogram(data.iloc[safe,i],range=(minn,maxx),bins=50)\n",
        "  B = np.histogram(data.iloc[attc,i],range=(minn,maxx),bins=50)[0]\n",
        "  plt.scatter(x[:-1],A,label='safe')\n",
        "  plt.scatter(x[:-1],B,label='attack')\n",
        "  plt.xlabel(f)\n",
        "  plt.legend()\n",
        "  plt.show()"
      ],
      "metadata": {
        "colab": {
          "base_uri": "https://localhost:8080/",
          "height": 541
        },
        "id": "xnLmEY6FuDjb",
        "outputId": "3da92bb6-365b-4e0c-a007-9944b3dd8346"
      },
      "execution_count": 75,
      "outputs": [
        {
          "output_type": "display_data",
          "data": {
            "image/png": "[encoded data removed]",
            "text/plain": [
              "<Figure size 432x288 with 1 Axes>"
            ]
          },
          "metadata": {
            "needs_background": "light"
          }
        },
        {
          "output_type": "display_data",
          "data": {
            "image/png": "[encoded data removed]",
            "text/plain": [
              "<Figure size 432x288 with 1 Axes>"
            ]
          },
          "metadata": {
            "needs_background": "light"
          }
        }
      ]
    },
    {
      "cell_type": "code",
      "source": [
        "(data['hot']==0).mean()"
      ],
      "metadata": {
        "colab": {
          "base_uri": "https://localhost:8080/"
        },
        "id": "IiDOwPuo3Fhb",
        "outputId": "319a2448-c41f-4619-8ac0-dd2a47c90971"
      },
      "execution_count": 78,
      "outputs": [
        {
          "output_type": "execute_result",
          "data": {
            "text/plain": [
              "0.978796875496142"
            ]
          },
          "metadata": {},
          "execution_count": 78
        }
      ]
    },
    {
      "cell_type": "code",
      "source": [
        "data['hot'][safe].max()"
      ],
      "metadata": {
        "colab": {
          "base_uri": "https://localhost:8080/"
        },
        "id": "8rT0lonA3Onq",
        "outputId": "8f2a1527-2111-4ec6-c570-f42ceb56f518"
      },
      "execution_count": 80,
      "outputs": [
        {
          "output_type": "execute_result",
          "data": {
            "text/plain": [
              "28"
            ]
          },
          "metadata": {},
          "execution_count": 80
        }
      ]
    },
    {
      "cell_type": "code",
      "source": [
        "for i in np.argsort(detect_Accuracy_c):\n",
        "  print(\"{:<30} {:<20}\".format(data.columns[i],detect_Accuracy_c[i]))"
      ],
      "metadata": {
        "colab": {
          "base_uri": "https://localhost:8080/"
        },
        "id": "HsPYz3-85-i7",
        "outputId": "059a8e3f-175a-4b77-d146-0dd9268d3922"
      },
      "execution_count": 85,
      "outputs": [
        {
          "output_type": "stream",
          "name": "stdout",
          "text": [
            "count                          0.9297030073780008  \n",
            "src_bytes                      0.9749073068424403  \n",
            "dst_host_srv_serror_rate       0.9878656230103742  \n",
            "dst_host_srv_count             0.9935208419160331  \n",
            "srv_count                      0.9946818471218306  \n",
            "dst_host_diff_srv_rate         0.9960675630126212  \n",
            "wrong_fragment                 0.9963671772592787  \n",
            "dst_host_count                 0.996442080820943   \n",
            "dst_host_same_src_port_rate    0.9965169843826074  \n",
            "dst_bytes                      0.996854050410097   \n",
            "hot                            0.9969664057525935  \n",
            "dst_host_rerror_rate           0.9971536646567545  \n",
            "dst_host_serror_rate           0.997266019999251   \n",
            "duration                       0.9974158271225797  \n",
            "dst_host_same_srv_rate         0.9974532789034118  \n",
            "diff_srv_rate                  0.9974532789034118  \n",
            "srv_diff_host_rate             0.9976030860267405  \n",
            "su_attempted                   0.9977154413692371  \n",
            "root_shell                     0.9977154413692371  \n",
            "num_root                       0.9977154413692371  \n",
            "num_shells                     0.9977154413692371  \n",
            "num_failed_logins              0.9977154413692371  \n",
            "land                           0.9977154413692371  \n",
            "num_compromised                0.9977154413692371  \n",
            "num_file_creations             0.9977154413692371  \n",
            "is_host_login                  0.9977154413692371  \n",
            "num_access_files               0.9977154413692371  \n",
            "urgent                         0.9977154413692371  \n",
            "dst_host_srv_rerror_rate       0.9977154413692371  \n",
            "level                          0.9977154413692371  \n",
            "logged_in                      0.9977154413692371  \n",
            "is_guest_login                 0.9977154413692371  \n",
            "srv_rerror_rate                0.9977528931500693  \n",
            "serror_rate                    0.9977528931500693  \n",
            "rerror_rate                    0.9977528931500693  \n",
            "srv_serror_rate                0.9977903449309015  \n",
            "dst_host_srv_diff_host_rate    0.997902700273398   \n",
            "same_srv_rate                  0.9981648627392232  \n"
          ]
        }
      ]
    },
    {
      "cell_type": "code",
      "source": [
        ""
      ],
      "metadata": {
        "id": "rVxo9vqyNRWR"
      },
      "execution_count": null,
      "outputs": []
    }
  ]
}